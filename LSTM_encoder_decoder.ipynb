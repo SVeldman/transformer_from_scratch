{
 "cells": [
  {
   "cell_type": "markdown",
   "metadata": {},
   "source": [
    "# Assigment 1, Steve Veldman, 6/20/2024\n",
    "\n",
    "Question 4: 20 points\n",
    "* Build from scratch in PyTorch, using LSTM, encoder-decoder network that translates between two date formats,\\\n",
    "    for example January 5, 2025: 5/1/2025 ← 2025/1/5.\n",
    "* Generate the training dataset and save it to file\n",
    "* Implement your own Dataset class to load the data\n",
    "* Train your model, demonstrate how well it does the translation."
   ]
  },
  {
   "cell_type": "code",
   "execution_count": 1,
   "metadata": {},
   "outputs": [],
   "source": [
    "from io import open\n",
    "\n",
    "import torch\n",
    "import torch.nn as nn\n",
    "from torch import optim\n",
    "import torch.nn.functional as F\n",
    "from torch.utils.data import Dataset\n",
    "from torch.nn.utils.rnn import pad_sequence\n",
    "\n",
    "import numpy as np\n",
    "import pandas as pd\n",
    "from torch.utils.data import TensorDataset, DataLoader\n",
    "import datetime\n",
    "import csv\n",
    "from sklearn.model_selection import train_test_split\n",
    "from sklearn.metrics import accuracy_score\n",
    "\n",
    "device = torch.device(\"cuda\" if torch.cuda.is_available() else \"cpu\")"
   ]
  },
  {
   "cell_type": "markdown",
   "metadata": {},
   "source": [
    "### Generate Data and Save Training and Validation Sets:"
   ]
  },
  {
   "cell_type": "code",
   "execution_count": 2,
   "metadata": {},
   "outputs": [],
   "source": [
    "# Generate Dataset:\n",
    "\n",
    "# generate all dates between Janaury 1, 1582 (year the Gregorian calendar was introduced) and December 31, 2024:\n",
    "# generate in format '2019-04-22'\n",
    "\n",
    "months_30_days = [4, 6, 9, 11]\n",
    "months_31_days = [1, 3, 5, 7, 8, 10, 12]\n",
    "\n",
    "dates_numeric = []\n",
    "for y in range(1582, 2025):\n",
    "  year = y\n",
    "  for m in range(1, 13):\n",
    "    month = m\n",
    "    if month in months_30_days:\n",
    "      for d in range(1, 31):\n",
    "        day = d\n",
    "        date = datetime.date(year, month, day)\n",
    "        date = str(date)\n",
    "        dates_numeric.append(date)\n",
    "    elif month in months_31_days:\n",
    "      for d in range(1, 32):\n",
    "        day = d\n",
    "        date = datetime.date(year, month, day)\n",
    "        date = str(date)\n",
    "        dates_numeric.append(date)\n",
    "    elif month == 2:\n",
    "      for d in range(1, 29):\n",
    "        day = d\n",
    "        date = datetime.date(year, month, day)\n",
    "        date = str(date)\n",
    "        dates_numeric.append(date)"
   ]
  },
  {
   "cell_type": "code",
   "execution_count": 3,
   "metadata": {},
   "outputs": [],
   "source": [
    "# Convert dates to format \"April 22, 2019\"\n",
    "dates_original = []\n",
    "\n",
    "for i in range(0, len(dates_numeric)):\n",
    "  date_str = dates_numeric[i]\n",
    "  date_obj = datetime.datetime.strptime(date_str, \"%Y-%m-%d\")\n",
    "  formatted_date = date_obj.strftime(\"%B %d, %Y\")\n",
    "  formatted_date = str(formatted_date)\n",
    "  dates_original.append(formatted_date)"
   ]
  },
  {
   "cell_type": "code",
   "execution_count": 4,
   "metadata": {},
   "outputs": [],
   "source": [
    "# Create Train and Validate Splits:\n",
    "orig_train, orig_val, num_train, num_val = train_test_split(dates_original, dates_numeric, test_size=0.2, random_state=47)"
   ]
  },
  {
   "cell_type": "code",
   "execution_count": 5,
   "metadata": {},
   "outputs": [],
   "source": [
    "# Save datasets to csv file:\n",
    "with open('dates_train.csv', 'w', newline='') as f:\n",
    "  writer = csv.writer(f)\n",
    "  writer.writerow(['num_train', 'orig_train'])\n",
    "  for i in range(len(num_train)):\n",
    "    writer.writerow([num_train[i], orig_train[i]])\n",
    "\n",
    "with open('dates_val.csv', 'w', newline='') as f:\n",
    "  writer = csv.writer(f)\n",
    "  writer.writerow(['num_val', 'orig_val'])\n",
    "  for i in range(len(num_val)):\n",
    "    writer.writerow([num_val[i], orig_val[i]])"
   ]
  },
  {
   "cell_type": "code",
   "execution_count": 6,
   "metadata": {},
   "outputs": [],
   "source": [
    "# Implement Custom Dataset Class to Capture Data as Pairs:\n",
    "\n",
    "class Pairs(Dataset):\n",
    "    def __init__(self, data_file):\n",
    "        self.data = pd.read_csv(data_file)\n",
    "\n",
    "    def __len__(self):\n",
    "        return len(self.data)\n",
    "\n",
    "    def __getitem__(self, idx):\n",
    "        date_numeric = self.data.iloc[idx,0]\n",
    "        date_original = self.data.iloc[idx,1]\n",
    "        return date_original, date_numeric"
   ]
  },
  {
   "cell_type": "code",
   "execution_count": 7,
   "metadata": {},
   "outputs": [],
   "source": [
    "# Load Data as Pairs:\n",
    "train_pairs = Pairs('dates_train.csv')\n",
    "val_pairs = Pairs('dates_val.csv')"
   ]
  },
  {
   "cell_type": "code",
   "execution_count": 8,
   "metadata": {},
   "outputs": [
    {
     "data": {
      "text/plain": [
       "'June 11, 1820'"
      ]
     },
     "execution_count": 8,
     "metadata": {},
     "output_type": "execute_result"
    }
   ],
   "source": [
    "train_pairs[1][0]"
   ]
  },
  {
   "cell_type": "code",
   "execution_count": 9,
   "metadata": {},
   "outputs": [
    {
     "data": {
      "text/plain": [
       "'1820-06-11'"
      ]
     },
     "execution_count": 9,
     "metadata": {},
     "output_type": "execute_result"
    }
   ],
   "source": [
    "train_pairs[1][1]"
   ]
  },
  {
   "cell_type": "markdown",
   "metadata": {},
   "source": [
    "### Create Vocabularies and Encodings:"
   ]
  },
  {
   "cell_type": "code",
   "execution_count": 10,
   "metadata": {},
   "outputs": [
    {
     "name": "stdout",
     "output_type": "stream",
     "text": [
      "Numeric vocabulary size: 11\n",
      "Original vocabulary size: 486\n"
     ]
    }
   ],
   "source": [
    "# Create Vocabularies:\n",
    "numeric_vocab = set()\n",
    "original_vocab = set()\n",
    "\n",
    "for i in range(len(train_pairs)):\n",
    "    numeric_vocab.update(list(train_pairs[i][1]))\n",
    "    original_vocab.update(train_pairs[i][0].split())\n",
    "\n",
    "print(\"Numeric vocabulary size:\", len(numeric_vocab))\n",
    "print(\"Original vocabulary size:\", len(original_vocab))"
   ]
  },
  {
   "cell_type": "code",
   "execution_count": 11,
   "metadata": {},
   "outputs": [
    {
     "name": "stdout",
     "output_type": "stream",
     "text": [
      "Numeric vocabulary size: 14\n",
      "Original vocabulary size: 489\n"
     ]
    }
   ],
   "source": [
    "# Add Start of Sequence Token (\"$\") and End of Sequence Token (\"#\"):\n",
    "numeric_vocab.update([\"$\",\"#\",\"<PAD>\"])\n",
    "original_vocab.update([\"$\",\"#\",\"<PAD>\"])\n",
    "\n",
    "print(\"Numeric vocabulary size:\", len(numeric_vocab))\n",
    "print(\"Original vocabulary size:\", len(original_vocab))"
   ]
  },
  {
   "cell_type": "code",
   "execution_count": 12,
   "metadata": {},
   "outputs": [],
   "source": [
    "# Creating character/word to token mapping:\n",
    "orig_word2token = {word: i for i, word in enumerate(original_vocab)}\n",
    "num_char2token = {char: i for i, char in enumerate(numeric_vocab)}\n",
    "\n",
    "# Creating token to character/word mapping\n",
    "orig_token2word = {i: word for word, i in orig_word2token.items()}\n",
    "num_token2char = {i: char for char, i in num_char2token.items()}"
   ]
  },
  {
   "cell_type": "code",
   "execution_count": 13,
   "metadata": {},
   "outputs": [
    {
     "name": "stdout",
     "output_type": "stream",
     "text": [
      "Original date encoded: [320 238 390]\n",
      "Numeric date encoded: [12 13 12  1  4 13  0  4 12  2]\n",
      "Decoded Original: June 25, 2024\n",
      "Decoded Numeric: 2024-06-25\n"
     ]
    }
   ],
   "source": [
    "# Test tokenizations:\n",
    "orig_example = \"June 25, 2024\"\n",
    "num_example = \"2024-06-25\"\n",
    "\n",
    "# Encoding\n",
    "orig_encoded = np.array([orig_word2token[word] for word in orig_example.split()], dtype=np.int32)\n",
    "num_encoded = np.array([num_char2token[word] for word in list(num_example)], dtype=np.int32)\n",
    "\n",
    "print('Original date encoded:', orig_encoded)\n",
    "print('Numeric date encoded:', num_encoded)\n",
    "\n",
    "# Decoding\n",
    "print('Decoded Original:', ' '.join([orig_token2word[i] for i in orig_encoded]))\n",
    "print('Decoded Numeric:', ''.join([num_token2char[i] for i in num_encoded]))"
   ]
  },
  {
   "cell_type": "markdown",
   "metadata": {},
   "source": [
    "### Implement Dataset Class for Training Encoder/Decoder Model and Create DataLoaders:"
   ]
  },
  {
   "cell_type": "code",
   "execution_count": 14,
   "metadata": {},
   "outputs": [],
   "source": [
    "# Implement Custom Dataset Class for Translation:\n",
    "class DateTranslationDataset(Dataset):\n",
    "    def __init__(self, pairs, orig_word2token, num_char2token):\n",
    "        self.pairs = pairs\n",
    "        self.orig_word2token = orig_word2token\n",
    "        self.num_char2token = num_char2token\n",
    "\n",
    "    def __len__(self):\n",
    "        return len(self.pairs)\n",
    "\n",
    "    def __getitem__(self, idx):\n",
    "        orig, num = self.pairs[idx]\n",
    "        orig_tensor = torch.tensor([self.orig_word2token[word] for word in orig.split()]\n",
    "                                  + [self.orig_word2token['#']], dtype=torch.long)\n",
    "        num_tensor = torch.tensor([self.num_char2token[char] for char in list(num)]\n",
    "                                  + [self.num_char2token['#']], dtype=torch.long)\n",
    "        return orig_tensor, num_tensor\n",
    "\n",
    "# Custom collate function to handle padding\n",
    "def collate_fn(batch):\n",
    "    orig_batch, num_batch = zip(*batch)\n",
    "    orig_batch_padded = pad_sequence(orig_batch, batch_first=True, padding_value=orig_word2token[\"<PAD>\"])\n",
    "    num_batch_padded = pad_sequence(num_batch, batch_first=True, padding_value=num_char2token[\"<PAD>\"])\n",
    "    return orig_batch_padded, num_batch_padded"
   ]
  },
  {
   "cell_type": "code",
   "execution_count": 15,
   "metadata": {},
   "outputs": [
    {
     "name": "stdout",
     "output_type": "stream",
     "text": [
      "Translation samples:  129356\n",
      "Translation batches:  1772\n"
     ]
    }
   ],
   "source": [
    "# Create train and test datasets and DataLoader\n",
    "train_dataset = DateTranslationDataset(train_pairs, orig_word2token, num_char2token)\n",
    "val_dataset = DateTranslationDataset(val_pairs, orig_word2token, num_char2token)\n",
    "\n",
    "batch_size = 73\n",
    "translation_dataloader = DataLoader(train_dataset, batch_size=batch_size,\n",
    "                                    shuffle=True,  drop_last=True, collate_fn=collate_fn)\n",
    "\n",
    "print(\"Translation samples: \", len(train_dataset))\n",
    "print(\"Translation batches: \", len(translation_dataloader))"
   ]
  },
  {
   "cell_type": "markdown",
   "metadata": {},
   "source": [
    "### Create Encoder and Decoder Classes and Initialize Models:"
   ]
  },
  {
   "cell_type": "code",
   "execution_count": 16,
   "metadata": {},
   "outputs": [],
   "source": [
    "# Create Encoder and Decoder Classes:\n",
    "\n",
    "class Encoder(nn.Module):\n",
    "    def __init__(self, vocab_size, embed_size, hidden_size, num_layers=1):\n",
    "        super().__init__()\n",
    "        self.hidden_size = hidden_size\n",
    "        self.embedding = nn.Embedding(vocab_size, embed_size)\n",
    "        self.lstm = nn.LSTM(embed_size, hidden_size, num_layers=num_layers,\n",
    "                            batch_first=True)\n",
    "\n",
    "    def forward(self, x):\n",
    "        # Reversing the sequence of indices\n",
    "        x = torch.flip(x, [1])\n",
    "        embedded = self.embedding(x)\n",
    "        outputs, (hidden, cell) = self.lstm(embedded)\n",
    "        return outputs, hidden, cell\n",
    "    \n",
    "class Decoder(nn.Module):\n",
    "    def __init__(self, vocab_size, embed_size, hidden_size, num_layers=1):\n",
    "        super().__init__()\n",
    "        self.hidden_size = hidden_size\n",
    "        self.embedding = nn.Embedding(vocab_size, embed_size)\n",
    "        self.lstm = nn.LSTM(embed_size, hidden_size, num_layers=num_layers,\n",
    "                            batch_first=True)\n",
    "        self.fc = nn.Linear(hidden_size, vocab_size)\n",
    "\n",
    "    def forward(self, x, hidden, cell):\n",
    "        out = self.embedding(x)\n",
    "        out, (hidden, cell) = self.lstm(out, (hidden, cell))\n",
    "        out = self.fc(out).reshape(out.size(0), -1)\n",
    "        return out, hidden, cell"
   ]
  },
  {
   "cell_type": "code",
   "execution_count": 17,
   "metadata": {},
   "outputs": [],
   "source": [
    "# Hyperparameters\n",
    "orig_vocab_size = len(orig_word2token)\n",
    "num_vocab_size = len(num_char2token)\n",
    "#embed_size = 489\n",
    "#hidden_size = 987\n",
    "embed_size = 500\n",
    "hidden_size = 1000\n",
    "num_layers = 1\n",
    "\n",
    "# Initialize the models\n",
    "encoder = Encoder(orig_vocab_size, 14, hidden_size, num_layers).to(device)\n",
    "decoder = Decoder(num_vocab_size, embed_size, hidden_size, num_layers).to(device)"
   ]
  },
  {
   "cell_type": "markdown",
   "metadata": {},
   "source": [
    "### Train Model and Evaluate:"
   ]
  },
  {
   "cell_type": "code",
   "execution_count": 18,
   "metadata": {},
   "outputs": [
    {
     "name": "stdout",
     "output_type": "stream",
     "text": [
      "Epoch 0, Batch 0, Loss: 2.6297\n",
      "Epoch 0, Batch 100, Loss: 1.0863\n",
      "Epoch 0, Batch 200, Loss: 0.8011\n",
      "Epoch 0, Batch 300, Loss: 0.4254\n",
      "Epoch 0, Batch 400, Loss: 0.1900\n",
      "Epoch 0, Batch 500, Loss: 0.0314\n",
      "Epoch 0, Batch 600, Loss: 0.0094\n",
      "Epoch 0, Batch 700, Loss: 0.0037\n",
      "Epoch 0, Batch 800, Loss: 0.0024\n",
      "Epoch 0, Batch 900, Loss: 0.0013\n",
      "Epoch 0, Batch 1000, Loss: 0.0008\n",
      "Epoch 0, Batch 1100, Loss: 0.0006\n",
      "Epoch 0, Batch 1200, Loss: 0.0005\n",
      "Epoch 0, Batch 1300, Loss: 0.0004\n",
      "Epoch 0, Batch 1400, Loss: 0.0003\n",
      "Epoch 0, Batch 1500, Loss: 0.0003\n",
      "Epoch 0, Batch 1600, Loss: 0.0003\n",
      "Epoch 0, Batch 1700, Loss: 0.0002\n",
      "Epoch 1, Batch 0, Loss: 0.0002\n",
      "Epoch 1, Batch 100, Loss: 0.0103\n",
      "Epoch 1, Batch 200, Loss: 0.0011\n",
      "Epoch 1, Batch 300, Loss: 0.0007\n",
      "Epoch 1, Batch 400, Loss: 0.0004\n",
      "Epoch 1, Batch 500, Loss: 0.0004\n",
      "Epoch 1, Batch 600, Loss: 0.0003\n",
      "Epoch 1, Batch 700, Loss: 0.0003\n",
      "Epoch 1, Batch 800, Loss: 0.0002\n",
      "Epoch 1, Batch 900, Loss: 0.0002\n",
      "Epoch 1, Batch 1000, Loss: 0.0002\n",
      "Epoch 1, Batch 1100, Loss: 0.0001\n",
      "Epoch 1, Batch 1200, Loss: 0.0001\n",
      "Epoch 1, Batch 1300, Loss: 0.0001\n",
      "Epoch 1, Batch 1400, Loss: 0.0001\n",
      "Epoch 1, Batch 1500, Loss: 0.0001\n",
      "Epoch 1, Batch 1600, Loss: 0.0001\n",
      "Epoch 1, Batch 1700, Loss: 0.0001\n",
      "Epoch 2, Batch 0, Loss: 0.0001\n",
      "Epoch 2, Batch 100, Loss: 0.0001\n",
      "Epoch 2, Batch 200, Loss: 0.0001\n",
      "Epoch 2, Batch 300, Loss: 0.0001\n",
      "Epoch 2, Batch 400, Loss: 0.0001\n",
      "Epoch 2, Batch 500, Loss: 0.0001\n",
      "Epoch 2, Batch 600, Loss: 0.0000\n",
      "Epoch 2, Batch 700, Loss: 0.0000\n",
      "Epoch 2, Batch 800, Loss: 0.0000\n",
      "Epoch 2, Batch 900, Loss: 0.0000\n",
      "Epoch 2, Batch 1000, Loss: 0.0000\n",
      "Epoch 2, Batch 1100, Loss: 0.0000\n",
      "Epoch 2, Batch 1200, Loss: 0.0000\n",
      "Epoch 2, Batch 1300, Loss: 0.0000\n",
      "Epoch 2, Batch 1400, Loss: 0.0000\n",
      "Epoch 2, Batch 1500, Loss: 0.0000\n",
      "Epoch 2, Batch 1600, Loss: 0.0000\n",
      "Epoch 2, Batch 1700, Loss: 0.0000\n"
     ]
    }
   ],
   "source": [
    "# Train Model:\n",
    "\n",
    "# Loss Function (exclude padding)\n",
    "loss_fn = nn.CrossEntropyLoss(ignore_index=num_char2token[\"<PAD>\"])\n",
    "\n",
    "# Optimizers\n",
    "encoder_optimizer = optim.AdamW(encoder.parameters())\n",
    "decoder_optimizer = optim.AdamW(decoder.parameters())\n",
    "\n",
    "# Number of epochs\n",
    "num_epochs = 3\n",
    "\n",
    "# Training Loop\n",
    "encoder.train()\n",
    "decoder.train()\n",
    "\n",
    "for epoch in range(num_epochs):\n",
    "    for i, (input_tensor, target_tensor) in enumerate(translation_dataloader):\n",
    "        input_tensor, target_tensor = input_tensor.to(device), target_tensor.to(device)\n",
    "        #input_tensor, target_tensor = input_tensor, target_tensor\n",
    "\n",
    "        # Zero gradients of both optimizers\n",
    "        encoder_optimizer.zero_grad()\n",
    "        decoder_optimizer.zero_grad()\n",
    "\n",
    "        target_length = target_tensor.size(1)\n",
    "\n",
    "        # Encoder\n",
    "        _, encoder_hidden, encoder_cell = encoder(input_tensor)\n",
    "\n",
    "        # Decoder\n",
    "        decoder_input = torch.full((batch_size, 1), num_char2token['$'], dtype=torch.long).to(device)\n",
    "        decoder_hidden = encoder_hidden\n",
    "        decoder_cell = encoder_cell\n",
    "\n",
    "        # Randomly select a word index from the target sequence\n",
    "        #random_word_index = random.randint(0, target_length - 1)\n",
    "\n",
    "        loss = 0\n",
    "\n",
    "        for di in range(target_length):\n",
    "            logits, decoder_hidden, decoder_cell  = decoder(decoder_input, decoder_hidden, decoder_cell)\n",
    "            #if di == random_word_index:\n",
    "            #    loss = loss_fn(logits, target_tensor[:, di])\n",
    "            #    break  # Only compute loss for the randomly selected word\n",
    "            loss += loss_fn(logits, target_tensor[:,di])\n",
    "            decoder_input = target_tensor[:, di].reshape(batch_size, 1)  # Teacher forcing\n",
    "\n",
    "\n",
    "        # Backpropagation\n",
    "        loss.backward()\n",
    "\n",
    "        encoder_optimizer.step()\n",
    "        decoder_optimizer.step()\n",
    "\n",
    "        if i % 100 == 0:  # Print loss every 10 batches\n",
    "            print(f'Epoch {epoch}, Batch {i}, Loss: {loss.item() / target_length:.4f}')"
   ]
  },
  {
   "cell_type": "code",
   "execution_count": 19,
   "metadata": {},
   "outputs": [],
   "source": [
    "# Function to convert between formats:\n",
    "def convert(encoder, decoder, input_date, orig_word2token, num_token2char, max_length=15):\n",
    "    encoder.eval()\n",
    "    decoder.eval()\n",
    "    with torch.inference_mode():\n",
    "        # Tokenize and encode the sentence\n",
    "        input_tensor = torch.tensor([orig_word2token[word] for word in input_date.split()]\n",
    "                                    + [orig_word2token[\"#\"]], dtype=torch.long)\n",
    "        input_tensor = input_tensor.view(1, -1).to(device)  # batch_first=True\n",
    "\n",
    "        # Pass the input through the encoder\n",
    "        _, encoder_hidden, encoder_cell = encoder(input_tensor)\n",
    "\n",
    "        # Initialize the decoder input with the SOS token\n",
    "        decoder_input = torch.tensor([[num_char2token[\"$\"]]], dtype=torch.long)  # SOS\n",
    "        # Initialize the hidden state of the decoder with the encoder's hidden state\n",
    "        decoder_hidden, decoder_cell = encoder_hidden, encoder_cell\n",
    "\n",
    "        # Decoding the sentence\n",
    "        output_string = []\n",
    "        last_char = torch.tensor([[num_char2token[\"$\"]]]).to(device)\n",
    "        for di in range(max_length):\n",
    "            logits, decoder_hidden, decoder_cell = decoder(last_char, decoder_hidden, decoder_cell)\n",
    "            next_token = logits.argmax(dim=1) # greedy\n",
    "            last_char = torch.tensor([[next_token]]).to(device)\n",
    "            if next_token.item() == num_char2token[\"#\"]:\n",
    "                break\n",
    "            else:\n",
    "                output_string.append(num_token2char.get(next_token.item()))\n",
    "\n",
    "        return ''.join(output_string)"
   ]
  },
  {
   "cell_type": "code",
   "execution_count": 20,
   "metadata": {},
   "outputs": [
    {
     "name": "stdout",
     "output_type": "stream",
     "text": [
      "Translated: 1992-04-26\n"
     ]
    }
   ],
   "source": [
    "# Demonstrate model on sample date:\n",
    "original_date = \"April 26, 1992\"\n",
    "converted_date = convert(encoder, decoder, original_date, orig_word2token, num_token2char)\n",
    "print(\"Translated:\", converted_date)"
   ]
  },
  {
   "cell_type": "code",
   "execution_count": 21,
   "metadata": {},
   "outputs": [],
   "source": [
    "# Make predictions on validation dataset:\n",
    "original = [val_pairs[i][0] for i in range(len(val_pairs))]\n",
    "numeric = [val_pairs[i][1] for i in range(len(val_pairs))]\n",
    "converted = [convert(encoder, decoder, original[i], orig_word2token, num_token2char) for i in range(len(original))]"
   ]
  },
  {
   "cell_type": "code",
   "execution_count": 22,
   "metadata": {},
   "outputs": [
    {
     "name": "stdout",
     "output_type": "stream",
     "text": [
      "['November 02, 1958', 'October 10, 1945', 'June 29, 1965', 'October 14, 1894', 'May 17, 1627']\n",
      "['1958-11-02', '1945-10-10', '1965-06-29', '1894-10-14', '1627-05-17']\n",
      "['1958-11-02', '1945-10-10', '1965-06-29', '1894-10-14', '1627-05-17']\n"
     ]
    }
   ],
   "source": [
    "print(original[:5])\n",
    "print(numeric[:5])\n",
    "print(converted[:5])"
   ]
  },
  {
   "cell_type": "code",
   "execution_count": 23,
   "metadata": {},
   "outputs": [
    {
     "name": "stdout",
     "output_type": "stream",
     "text": [
      "Validation Accuracy: 1.0\n"
     ]
    }
   ],
   "source": [
    "val_accuracy = accuracy_score(numeric, converted)\n",
    "print(\"Validation Accuracy:\", val_accuracy)"
   ]
  },
  {
   "cell_type": "markdown",
   "metadata": {},
   "source": [
    "### Citations:\n",
    "The following resources were referenced in creating this notebook:\n",
    "* https://www.youtube.com/watch?v=QQEL7MC0u1E\n",
    "* https://colab.research.google.com/drive/1GBC7eLlEM-HqKLUuMcFIQdVuYXzLoS_P?usp=sharing#scrollTo=5qk88CrMSq6E"
   ]
  }
 ],
 "metadata": {
  "environment": {
   "kernel": "python3",
   "name": ".m121",
   "type": "gcloud",
   "uri": "us-docker.pkg.dev/deeplearning-platform-release/gcr.io/:m121"
  },
  "kernelspec": {
   "display_name": "Python 3 (ipykernel)",
   "language": "python",
   "name": "python3"
  },
  "language_info": {
   "codemirror_mode": {
    "name": "ipython",
    "version": 3
   },
   "file_extension": ".py",
   "mimetype": "text/x-python",
   "name": "python",
   "nbconvert_exporter": "python",
   "pygments_lexer": "ipython3",
   "version": "3.10.12"
  }
 },
 "nbformat": 4,
 "nbformat_minor": 4
}
